{
 "cells": [
  {
   "cell_type": "code",
   "execution_count": 7,
   "id": "792134f7-1e07-4cc6-ab1f-8b279d99db5c",
   "metadata": {},
   "outputs": [
    {
     "ename": "KeyboardInterrupt",
     "evalue": "",
     "output_type": "error",
     "traceback": [
      "\u001b[1;31m---------------------------------------------------------------------------\u001b[0m",
      "\u001b[1;31mKeyboardInterrupt\u001b[0m                         Traceback (most recent call last)",
      "Cell \u001b[1;32mIn[7], line 10\u001b[0m\n\u001b[0;32m      7\u001b[0m \u001b[38;5;66;03m# cap = cv2.VideoCapture(\"file.mp4\")  # Use video file if needed\u001b[39;00m\n\u001b[0;32m      9\u001b[0m \u001b[38;5;28;01mif\u001b[39;00m \u001b[38;5;129;01mnot\u001b[39;00m cap\u001b[38;5;241m.\u001b[39misOpened():\n\u001b[1;32m---> 10\u001b[0m     cap \u001b[38;5;241m=\u001b[39m cv2\u001b[38;5;241m.\u001b[39mVideoCapture(\u001b[38;5;241m0\u001b[39m)  \u001b[38;5;66;03m# Fallback to default camera if webcam is unavailable\u001b[39;00m\n\u001b[0;32m     11\u001b[0m \u001b[38;5;28;01mif\u001b[39;00m \u001b[38;5;129;01mnot\u001b[39;00m cap\u001b[38;5;241m.\u001b[39misOpened():\n\u001b[0;32m     12\u001b[0m     \u001b[38;5;28;01mraise\u001b[39;00m \u001b[38;5;167;01mIOError\u001b[39;00m(\u001b[38;5;124m\"\u001b[39m\u001b[38;5;124mCannot open video\u001b[39m\u001b[38;5;124m\"\u001b[39m)\n",
      "\u001b[1;31mKeyboardInterrupt\u001b[0m: "
     ]
    }
   ],
   "source": [
    "import cv2\n",
    "import pytesseract\n",
    "import numpy as np\n",
    "\n",
    "# Initialize the webcam or video input\n",
    "cap = cv2.VideoCapture(1)  # Webcam input\n",
    "# cap = cv2.VideoCapture(\"file.mp4\")  # Use video file if needed\n",
    "\n",
    "if not cap.isOpened():\n",
    "    cap = cv2.VideoCapture(0)  # Fallback to default camera if webcam is unavailable\n",
    "if not cap.isOpened():\n",
    "    raise IOError(\"Cannot open video\")\n",
    "\n",
    "# Function for image preprocessing\n",
    "def preprocess_image(frame):\n",
    "    # Convert to grayscale\n",
    "    gray = cv2.cvtColor(frame, cv2.COLOR_BGR2GRAY)\n",
    "\n",
    "    # Remove noise using Gaussian Blur\n",
    "    blurred = cv2.GaussianBlur(gray, (5, 5), 0)\n",
    "\n",
    "    # Apply adaptive thresholding for better contrast\n",
    "    threshold_img = cv2.adaptiveThreshold(\n",
    "        blurred, 255, cv2.ADAPTIVE_THRESH_GAUSSIAN_C, cv2.THRESH_BINARY, 11, 2\n",
    "    )\n",
    "\n",
    "    return threshold_img\n",
    "\n",
    "# Main loop for video capture and processing\n",
    "while True:\n",
    "    ret, frame = cap.read()\n",
    "    if not ret:\n",
    "        print(\"Failed to capture frame. Exiting...\")\n",
    "        break\n",
    "\n",
    "    # Preprocess the frame for better OCR results\n",
    "    preprocessed_frame = preprocess_image(frame)\n",
    "\n",
    "    # Extract text from the preprocessed frame using pytesseract\n",
    "    imgchar = pytesseract.image_to_string(preprocessed_frame)\n",
    "    imgboxes = pytesseract.image_to_boxes(preprocessed_frame)\n",
    "\n",
    "    # Display detected text on console\n",
    "    print(f\"Detected Text:\\n{imgchar}\")\n",
    "\n",
    "    # Draw bounding boxes around detected text\n",
    "    imgH, imgW, _ = frame.shape\n",
    "    for b in imgboxes.splitlines():\n",
    "        b = b.split(' ')\n",
    "        x, y, w, h = int(b[1]), int(b[2]), int(b[3]), int(b[4])\n",
    "        cv2.rectangle(frame, (x, imgH - y), (w, imgH - h), (0, 255, 0), 2)\n",
    "\n",
    "    # Display the original frame with bounding boxes\n",
    "    cv2.imshow(\"OCR Result\", frame)\n",
    "\n",
    "    # Press 'q' to exit\n",
    "    if cv2.waitKey(1) & 0xFF == ord('q'):\n",
    "        break\n",
    "\n",
    "# Release the video capture object and close windows\n",
    "cap.release()\n",
    "cv2.destroyAllWindows()\n"
   ]
  },
  {
   "cell_type": "code",
   "execution_count": null,
   "id": "6fac6441-8f5b-4c6a-933b-cc6337161673",
   "metadata": {},
   "outputs": [],
   "source": []
  }
 ],
 "metadata": {
  "kernelspec": {
   "display_name": "Python 3 (ipykernel)",
   "language": "python",
   "name": "python3"
  },
  "language_info": {
   "codemirror_mode": {
    "name": "ipython",
    "version": 3
   },
   "file_extension": ".py",
   "mimetype": "text/x-python",
   "name": "python",
   "nbconvert_exporter": "python",
   "pygments_lexer": "ipython3",
   "version": "3.12.4"
  }
 },
 "nbformat": 4,
 "nbformat_minor": 5
}
